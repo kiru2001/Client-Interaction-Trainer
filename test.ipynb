{
 "cells": [
  {
   "cell_type": "code",
   "execution_count": 1,
   "metadata": {},
   "outputs": [
    {
     "ename": "ImportError",
     "evalue": "cannot import name 'summarize_document' from 'gensim.models' (/Users/kironmoysusantaroy/Documents/client_trainer/kiru/lib/python3.12/site-packages/gensim/models/__init__.py)",
     "output_type": "error",
     "traceback": [
      "\u001b[0;31m---------------------------------------------------------------------------\u001b[0m",
      "\u001b[0;31mImportError\u001b[0m                               Traceback (most recent call last)",
      "Cell \u001b[0;32mIn[1], line 1\u001b[0m\n\u001b[0;32m----> 1\u001b[0m \u001b[38;5;28;01mfrom\u001b[39;00m \u001b[38;5;21;01mgensim\u001b[39;00m\u001b[38;5;21;01m.\u001b[39;00m\u001b[38;5;21;01mmodels\u001b[39;00m \u001b[38;5;28;01mimport\u001b[39;00m summarize_document\n\u001b[1;32m      3\u001b[0m \u001b[38;5;28;01mdef\u001b[39;00m \u001b[38;5;21msummarize_document\u001b[39m(retriever):\n\u001b[1;32m      4\u001b[0m     \u001b[38;5;66;03m# Retrieve the document using the provided retriever\u001b[39;00m\n\u001b[1;32m      5\u001b[0m     document \u001b[38;5;241m=\u001b[39m retriever()\n",
      "\u001b[0;31mImportError\u001b[0m: cannot import name 'summarize_document' from 'gensim.models' (/Users/kironmoysusantaroy/Documents/client_trainer/kiru/lib/python3.12/site-packages/gensim/models/__init__.py)"
     ]
    }
   ],
   "source": [
    "from gensim.summarization.summarizer import summarize                  \n",
    "from gensim.summarization import keywords\n",
    "\n",
    "def summarize_document(retriever):\n",
    "    # Retrieve the document using the provided retriever\n",
    "    document = retriever()\n",
    "    \n",
    "    # Check if the document is empty or None\n",
    "    if not document:\n",
    "        return \"No document retrieved or document is empty.\"\n",
    "    \n",
    "    # Summarize the document\n",
    "    summary = summarize_document(document)\n",
    "    \n",
    "    return summary\n",
    "\n",
    "# Example retriever function\n",
    "def example_retriever():\n",
    "    # This function should be replaced with actual logic to retrieve the document\n",
    "    # For demonstration, we use a sample text\n",
    "    document = \"\"\"\n",
    "    The European Union is an economic and political union involving 28 European countries. \n",
    "    It allows free trade and free movement of people to live and work in whichever country they choose. \n",
    "    The EU grew out of a desire to form a single European political entity to end the centuries of warfare \n",
    "    among European countries that culminated in World War II and decimated much of the continent. \n",
    "    In 1950, the European Coal and Steel Community began to unite European countries economically and politically \n",
    "    in order to secure lasting peace. The six founding countries are Belgium, France, Germany, Italy, Luxembourg and the Netherlands. \n",
    "    The Community and its successors have grown in size by the accession of new member states and in power \n",
    "    by the addition of policy areas to its remit. The Maastricht Treaty established the European Union under its current name in 1993.\n",
    "    \"\"\"\n",
    "    return document\n",
    "\n",
    "# Example usage\n",
    "print(summarize_document(example_retriever))\n"
   ]
  },
  {
   "cell_type": "code",
   "execution_count": 2,
   "metadata": {},
   "outputs": [
    {
     "data": {
      "application/vnd.jupyter.widget-view+json": {
       "model_id": "d883847a7f2e443f93ef04e9183ca911",
       "version_major": 2,
       "version_minor": 0
      },
      "text/plain": [
       "config.json:   0%|          | 0.00/571 [00:00<?, ?B/s]"
      ]
     },
     "metadata": {},
     "output_type": "display_data"
    },
    {
     "data": {
      "application/vnd.jupyter.widget-view+json": {
       "model_id": "15912b0a00354f56a1a48e825c33f3c4",
       "version_major": 2,
       "version_minor": 0
      },
      "text/plain": [
       "model.safetensors:   0%|          | 0.00/1.34G [00:00<?, ?B/s]"
      ]
     },
     "metadata": {},
     "output_type": "display_data"
    },
    {
     "data": {
      "application/vnd.jupyter.widget-view+json": {
       "model_id": "57e9ccb39c3d4e52993ae5e0d41bf9bc",
       "version_major": 2,
       "version_minor": 0
      },
      "text/plain": [
       "tokenizer_config.json:   0%|          | 0.00/48.0 [00:00<?, ?B/s]"
      ]
     },
     "metadata": {},
     "output_type": "display_data"
    },
    {
     "data": {
      "application/vnd.jupyter.widget-view+json": {
       "model_id": "075fc821b2884a008c0187e73ee3b0e5",
       "version_major": 2,
       "version_minor": 0
      },
      "text/plain": [
       "vocab.txt:   0%|          | 0.00/232k [00:00<?, ?B/s]"
      ]
     },
     "metadata": {},
     "output_type": "display_data"
    },
    {
     "data": {
      "application/vnd.jupyter.widget-view+json": {
       "model_id": "ef16d3d6fe904c5f83558b5fa37b9742",
       "version_major": 2,
       "version_minor": 0
      },
      "text/plain": [
       "tokenizer.json:   0%|          | 0.00/466k [00:00<?, ?B/s]"
      ]
     },
     "metadata": {},
     "output_type": "display_data"
    },
    {
     "name": "stdout",
     "output_type": "stream",
     "text": [
      "The Chrysler Building, the famous art deco New York skyscraper, will be sold for a small fraction of its previous sales price. The building sold fairly quickly after being publicly placed on the market only two months ago. The incentive to sell the building at such a huge loss was due to the soaring rent the owners pay to Cooper Union, a New York college, for the land under the building. Still the building is among the best known in the city, even to people who have never been to New York.\n"
     ]
    }
   ],
   "source": [
    "from summarizer import Summarizer\n",
    "\n",
    "body = '''\n",
    "The Chrysler Building, the famous art deco New York skyscraper, will be sold for a small fraction of its previous sales price.\n",
    "The deal, first reported by The Real Deal, was for $150 million, according to a source familiar with the deal.\n",
    "Mubadala, an Abu Dhabi investment fund, purchased 90% of the building for $800 million in 2008.\n",
    "Real estate firm Tishman Speyer had owned the other 10%.\n",
    "The buyer is RFR Holding, a New York real estate company.\n",
    "Officials with Tishman and RFR did not immediately respond to a request for comments.\n",
    "It's unclear when the deal will close.\n",
    "The building sold fairly quickly after being publicly placed on the market only two months ago.\n",
    "The sale was handled by CBRE Group.\n",
    "The incentive to sell the building at such a huge loss was due to the soaring rent the owners pay to Cooper Union, a New York college, for the land under the building.\n",
    "The rent is rising from $7.75 million last year to $32.5 million this year to $41 million in 2028.\n",
    "Meantime, rents in the building itself are not rising nearly that fast.\n",
    "While the building is an iconic landmark in the New York skyline, it is competing against newer office towers with large floor-to-ceiling windows and all the modern amenities.\n",
    "Still the building is among the best known in the city, even to people who have never been to New York.\n",
    "It is famous for its triangle-shaped, vaulted windows worked into the stylized crown, along with its distinctive eagle gargoyles near the top.\n",
    "It has been featured prominently in many films, including Men in Black 3, Spider-Man, Armageddon, Two Weeks Notice and Independence Day.\n",
    "The previous sale took place just before the 2008 financial meltdown led to a plunge in real estate prices.\n",
    "Still there have been a number of high profile skyscrapers purchased for top dollar in recent years, including the Waldorf Astoria hotel, which Chinese firm Anbang Insurance purchased in 2016 for nearly $2 billion, and the Willis Tower in Chicago, which was formerly known as Sears Tower, once the world's tallest.\n",
    "Blackstone Group (BX) bought it for $1.3 billion 2015.\n",
    "The Chrysler Building was the headquarters of the American automaker until 1953, but it was named for and owned by Chrysler chief Walter Chrysler, not the company itself.\n",
    "Walter Chrysler had set out to build the tallest building in the world, a competition at that time with another Manhattan skyscraper under construction at 40 Wall Street at the south end of Manhattan. He kept secret the plans for the spire that would grace the top of the building, building it inside the structure and out of view of the public until 40 Wall Street was complete.\n",
    "Once the competitor could rise no higher, the spire of the Chrysler building was raised into view, giving it the title.\n",
    "'''\n",
    "\n",
    "model = Summarizer()\n",
    "result = model(body, min_length=60,)\n",
    "full = ''.join(result)\n",
    "print(full)"
   ]
  },
  {
   "cell_type": "code",
   "execution_count": 3,
   "metadata": {},
   "outputs": [],
   "source": [
    "bodey=\"\"\"My wife always said she would die of Alzheimer’s. It turns out she was right about that. For years, I insisted she would not. In the end, Vanessa clinched our little argument by dying last September, but we had known her fate since 2019, the year she was diagnosed, at the age of 49. For at least three years before that, though, the realisation dawned by hideous degrees which way the debate was going.\n",
    "\n",
    "When we met, in the mid-00s, the proposition that Vanessa did not have Alzheimer’s, nor was about to develop it, was an easy motion to defend. She was dazzling and creative, with a successful career as a marketing executive. In that context, her preoccupation with this old person’s disease came across as a little absurd.\n",
    "\n",
    "We met on the dancefloor of a nightclub in 2004. I was 32, she was about to turn 35. Far too old for a place like that, but we were reliving former glories in honour of mutual friends – a last glance back at our careless youth. When the management turned us out after a long night of carousing into the next stage of our lives, Vanessa scribbled her number for me on a piece of paper. How she would have loved to be able to do that only 15 years later.\n",
    "\n",
    "A few weeks into our relationship, she told me that her mum, in her 50s, was dying of Alzheimer’s and, a little later again, that she was sure to do the same. I put her fears down to general fatalism, and spent much of the following decade insisting she had nothing to worry about. Until I could no longer find plausible grounds to argue that everything was fine.\n",
    "\n",
    "A common question is: when did the disease start? There is no neat answer. It’s possible Vanessa could feel it coming on long before any of her symptoms showed. To the outside world, though, Alzheimer’s reveals itself by subtle degrees, each one plausibly dismissed in the early stages as “nothing”. And even when they start to become obviously “something”, there is usually a range of alternative explanations. The twisted genius of this disease begins with the way it smuggles itself in under the cover of other conditions. Absent-mindedness, ageing, menopause, through depression, anxiety and epilepsy – all would be presented as perfectly plausible explanations, first by me, then by some serious experts in their field. In retrospect, though, it began with a zit on her chin.\n",
    "\n",
    "We used to go out for dinner at the end of family holidays in Devon. There is a beach cafe overlooking the sea, round the headland from where we were married in 2006. As we sat down for the 2013 edition, I pointed out the zit with much amusement. Vanessa responded in a similar vein. For a minute or so, the repartee was spiky and hilarious. Then we looked at the menu.\n",
    "\n",
    "At the end of the meal, as we were leaving, I cracked another joke about the monstrous carbuncle.\n",
    "\n",
    "Vanessa looked at me in horror. “What? I’ve got a zit on my chin?”\n",
    "\n",
    "I remember the chill. We were well used to her mislaying car keys and sunglasses and whatnot. But this seemed different. This was an entire conversation we had just had.\n",
    "\n",
    "It didn’t really matter. The incident was isolated, and life went on as normal. Maybe the first doubts started to niggle in the back of my mind, but I maintained the line. There was nothing unusual about any of this. What she must not do is ruin her life worrying about it.\n",
    "\n",
    "There is no point worrying about dementia. One in 14 of us will develop it if we live beyond 65, one in six if we go beyond 80. There are various lifestyle choices we can make to lessen our risk (public health officials have identified 12), of which it pays to be aware, but worrying is not one of them. What will be will be.\n",
    "\n",
    "It is true, though, that this is a hateful disease once it starts to take hold. Its ultimate genius is the way it comes for the very soul of you. You never hear about a brave fight against dementia, as you do so many other conditions, because you can’t fight it. To fight is to make a choice, which requires cognition. By degrees, dementia disables that faculty, rendering its victim helpless.\n",
    "\n",
    "There is a mini-industry of advice on how to stave off dementia (start with exercise, smoking, diet) and then, as the saying goes, to “live well with dementia” once diagnosed. This latter movement is controversial, its proponents declaring themselves as diagnosed with dementia, then writing books, blogs and speeches about it, often for more than 10 years.\n",
    "\n",
    "The work they do raising awareness is valuable, but the insinuation that it should be possible to live well with this condition is disingenuous. Vanessa in her prime led teams and launched marketing campaigns for major international corporations. But she could no more have delivered a speech in 2016, three years before her diagnosis, than she could have concentrated enough to use a laptop, which by then was not at all. Over the next few years, her decline was brutal and unanswerable.\n",
    "\n",
    "In 2016, she was still a hands-on mum to our two children, who were by then eight and six. Seven years later, she would be dead. I can see now that is quick, although it did not feel so at the time. Other journeys will take longer, but by the mid stages of dementia, a patient’s days of adventures and blogging will be long gone.\n",
    "\n",
    "Vanessa in 2005.\n",
    "View image in fullscreen\n",
    "Vanessa in 2005. Photograph: Courtesy of Michael Aylwin\n",
    "By 2016, we were still adventuring as a family. I was concerned about Vanessa at that stage, no question, but there were still grounds for maintaining the original line of argument. The chaos of young family life was losing its power as an explanation for some of her more alarming missteps, but menopause, which came early for her, had since stepped in to explain away instances of memory loss or outbursts of temper.\n",
    "\n",
    "“You’re clinging to this menopause thing,” she once said to me.\n",
    "\n",
    "“You’re clinging to the Alzheimer’s,” I retorted.\n",
    "\n",
    "In 2017, I came to accept that I was indeed the one doing the clinging. And then, cruelly, she was given the all-clear.\n",
    "\n",
    "The one time we went to the GP about her concerns was in 2014. The appointment ended when Vanessa was presented with the standard cognitive test that precedes any referral. Such was her fear of memory tests that she broke down and would not even look at it.\n",
    "\n",
    "In the end, we bypassed the GP altogether, after she had a pair of curious seizures in 2017. She was gripped by a form of vertigo. Both times I called an ambulance.\n",
    "\n",
    "After the first, in September, she was lined up for an MRI scan. I lobbied the admin desk at the hospital for a rethink, told them they didn’t understand the significance of what they were suggesting. I’m not sure what I wanted them to do about it, but I knew this MRI scan would bring together all of Vanessa’s fears. This was the moment we stared the monster in the face. I suppose I was afraid. The administrator shrugged and said she had to have it.\n",
    "\n",
    "When we drove in for the results, in October, we sat in silence, with the air of the condemned. I had fully come round. It had to be Alzheimer’s. Which was when they told us her brain was as clear as a bell.\n",
    "\n",
    "“We know you have had concerns,” said the consultant. “Don’t worry. There is no Alzheimer’s here.”\n",
    "\n",
    "When they told her it would be terrible for her to waste any more of her energy worrying about it, I felt a teardrop prick at the edge of my eye.\n",
    "\n",
    "A weight had been lifted, but a relief like that is not all good news. Particularly if it turns out to be false. As we drove away that very afternoon, Vanessa said: “What am I going to blame it on now?”\n",
    "\n",
    "When you have laboured under a cross your whole adult life, to be relieved of it so suddenly is disconcerting. Whether coincidentally or not, her symptoms unwound spectacularly from then on. Every day it seemed a new level of incapacity was reached. The next 21 months or so were unnerving, as she started to fall apart in front of our children, then 10 and eight, who should not have had to witness it, let alone suffer the repercussions, all the while being told her brain was fine.\n",
    "\n",
    "Vanessa’s second turn, a week before Christmas 2017, was more spectacular again. She held my hand and screamed that the room was upside down, that I was upside down. This time the emergency neurologist was on duty at the hospital. He was sufficiently impressed by her symptoms to take her on as a patient, without any GP referral. But he and his team would be flummoxed for nearly two years.\n",
    "\n",
    "The problem was twofold. One, those MRI scans that kept coming back clear; two, Vanessa’s ability, even then, to turn on the charm. Sometimes, we had meetings with two consultants in the same room, and she would have us all roaring with laughter at her dark humour. On the surface, there seemed nothing wrong, even to experts. They call it compensating, and her neurologist later told me he had never had a patient able to compensate for her condition as Vanessa did. Without the scenes he had witnessed in A&E before Christmas, we would no doubt have been sent home.\n",
    "\n",
    "As she deteriorated, I bombarded the neurologists with lengthy emails, detailing the latest symptoms. In 2018, it became clear she could not read, or at least concentrate enough to read a passage. She could not take her medication correctly or understand the pillbox we bought to make it easier. Then, for the first time, I had to help her on with a T-shirt, then again, then again, and so on. Multiple – and occasionally dangerous – cooking mishaps occurred. For safety, the following year we replaced our gas stove with an induction hob, which I struggled to make work. Vanessa didn’t stand a chance. So that was her cooking career over. Her entries in the family calendar on the wall, very much her initiative, petered out in 2018, too. And in January 2019, she was unable to sign our daughter’s birthday card.\n",
    "\n",
    "It was a lumbar puncture that finally teased out the demon in her system. There was a deficiency of the protein amyloid in Vanessa’s spinal fluid, her neurologist explained to us, which meant it had to be gathering in her brain. Which meant she had dementia.\n",
    "\n",
    "This was relayed in the matter-of-fact manner of the professional, weirdly devastating and reassuring at the same time. Now it was just a question of which type of dementia. In order to find out, she would need to have a Pet (positron emission tomography) scan and, given her mother’s history, a DNA test. The tie-breaker, as he described it.\n",
    "\n",
    "A Pet scan uses a different level of technology to an MRI, and is more expensive, thus rarely deployed. An MRI scan might be the equivalent of a 3D photograph of the structure of a building; a Pet scan is more like a heat map of what is going on inside. If there’s a fire smouldering away, the MRI scan won’t show it until the building is damaged; a Pet scan will.\n",
    "\n",
    "On the morning of 13 September 2019, just over a month before her 50th birthday, Vanessa’s neurologist summoned all his powers of straight-talking to tell us, more or less as soon as we sat down, that it was Alzheimer’s. For a Pet scan, they inject some radioactive goo into your system and see which bits light up. We were shown the cold blue regions of Vanessa’s brain that were not working properly, most of them in the middle and rear. Two weeks later, he was able to confirm from the DNA test result that she had what her mother must also have had. It was not just Alzheimer’s, it was familial Alzheimer’s.\n",
    "\n",
    "She had been right all along. And there was nothing she or anyone could have done about it.\n",
    "\n",
    "For years, Vanessa had said to me: “If I ever get Alzheimer’s, you have to help me end it.” “Well, darling, technically that’s illegal in this country. But shall we cross that bridge if we ever get to it?”\n",
    "\n",
    "Here, finally, we were. I waited anxiously for her to bring the subject up, but I’m pleased to say she never did. Her mortal fear shifted at that point from Alzheimer’s to nursing homes.\n",
    "\n",
    "But her ability to think coherently was so elusive by then that I think she was safe from the thought processes required for suicide. It must take a great effort of will to end a life, just as it must to fight a terminal illness. Dementia takes that away from you in time.\n",
    "\n",
    "We were told she was still in the early stage of the disease. I found that news almost as crushing as the main headline. If this was early, I wasn’t looking forward to mid or late. I’d been looking after Vanessa – by which I mean guiding, covering for and assisting – at least as much as I had been the children, who in turn were watching out for her as much as the other way round, for two years or more. I was helping her dress and undress. In effect, I was a single parent of three, one of whom was older than me.\n",
    "\n",
    "Vanessa took the diagnosis better than expected, which again was probably down to the condition itself. Would it have made any difference for her to have been diagnosed earlier? Probably not. To watch her decline so rapidly and have no official explanation had been disconcerting, it’s true, even if it was pretty obvious what was happening. But the earlier her diagnosis landed, the better able to apprehend it she would have been. When it did come, the condition itself softened its own blow.\n",
    "\n",
    "What a diagnosis can do for you is open up resources, although sometimes you have to find out for yourself what they are and where to find them. Which, of course, requires cognition. Without an advocate, someone in even a mild stage of Alzheimer’s would struggle, possibly prohibitively; in anything like a moderate stage they would find it impossible. The form for Vanessa’s personal independence payment application, for example, required pages of written testimony and hours to fill them in. But that was nothing compared to the palaver of securing continuing healthcare (CHC) funding from the NHS, by which point any dementia patient is, by definition, incapable of the rudimentary tasks of living, let alone advocacy.\n",
    "\n",
    "Vanessa in 2017.\n",
    "View image in fullscreen\n",
    "Vanessa in 2017. Photograph: Courtesy of Michael Aylwin\n",
    "Dementia’s final insult, after the pitiless assault on a person’s health, dignity and actual self, is the financial toll. As things stand, a diagnosis of dementia, already a somewhat upsetting event, might as well come with a bill of six figures, to be paid over the course of the rest of one’s life, or until such time as personal savings fall beneath a threshold of £23,250. Only then will the state step in to assist with the ferocious costs. This disease can ruin a person in more ways than one.\n",
    "\n",
    "With good reason, public policy towards dementia, the funding or otherwise of research and care, provokes anger and controversy at every turn. Extraordinary demands are made of patients and their families that would never be exacted from patients of other diseases. Dementia support is a public health blind spot. Partly this is because of dementia’s elusiveness, in contrast to more physical, identifiable and treatable conditions; partly it is because of the sheer cost of care that is revealing itself now we are catching up with how deeply its tentacles reach.\n",
    "\n",
    "A few months after Vanessa’s diagnosis, the UK went into lockdown. These were strange times for all of us. As much as to be locked down with dementia in the house sounds – and was – difficult, I took comfort from the knowledge no one else was able to go out, either.\n",
    "\n",
    "But the domestic challenge was relentless and enervating. And infuriating. Absolutely infuriating.\n",
    "\n",
    "They don’t tell you that in the brochure. We’re all braced for the overarching tragedy of a dementia patient’s decline, but far too little airtime is given to how much it will drive you mad with irritation on a day-to-day level. Both of you. It works both ways. She annoyed me more than I can say, but if anything I annoyed her more.\n",
    "\n",
    "One of you ends up doing everything for the other, which in the context of the disease is fair enough. But the other, already disconcerted by the deterioration of their powers, is driven to distraction by the constant presence of their spouse and the insult, as they see it, of the continual meddling and assisting. Fury is the regular result. Which in turn drives the carer mad with frustration. To have to do everything in the house, including the heavy duty of a spouse’s personal care, and be raged at for your pains.\n",
    "\n",
    "I read some of my diary entries from that time and cringe. Hateful thoughts cross your mind – about whether you ever loved your spouse and when it might all be over. Then you go off and read one of the many articles out there of families hit by this terrible disease, most of which focus on the love that will get them through – and, with your blood boiling from the latest raging argument, the guilt crashes over you. The danger is, you come to see yourself as failing – or, worse still, as just not a very nice person. Chuck in a few more articles from people who purport to be “living well with dementia”, and the effect on your state of mind can be quite dangerous.\n",
    "\n",
    "And then the time will probably come when it is no longer feasible to look after your loved one at home. Cue guilt of an even higher order.\n",
    "\n",
    "I used to wonder what the breaking point would look like, when we would know the time had come. I imagined it would be incontinence or some such thing. In fact, the development that started to force the issue was something as banal as her refusing my help, which had all sorts of practical repercussions. But I suppose we were “lucky”, because, just as I was starting to look at possible nursing homes and to wonder how on earth we were going to negotiate this transition peacefully, fate intervened to make the decision for us.\n",
    "\n",
    "There was a self-help book doing the rounds when I was a young man called Feel the Fear and Do It Anyway. My flatmate and I used to joke about the title and co-opt it for any number of situations. Change the word “fear” to “guilt”, and you have a reasonable mantra to cling to when it comes to placing a loved one in a nursing home. There is no easy way to make the leap, but once you have, it’s just about true to say that everyone benefits. Not totally true, because residency in a nursing home is undoubtedly not a thing to aspire to. If you are ill enough to need one, there is no path available that is attractive, but the levels of care in a good nursing home, with professionals constantly on hand, are far higher than a spouse can provide in your own home.\n",
    "\n",
    "By the summer of 2021, we were at or around breaking point. As Vanessa’s faculties clogged up, they turned out the fury that most able-minded people manage to keep in check. In the space of a few weeks, we went from the crushing monotony of daily care – dressing, undressing, feeding, guiding (physically and emotionally), washing, containing, etc – to an infernal alternative reality that could not be sustained.\n",
    "\n",
    "There was a period, maybe the hardest of all for Vanessa, when she dutifully allowed me and her carers to help her with the aspects of living she could no longer manage, the indignity of it a burden that had to be borne without the wherewithal to complete those tasks herself. But then the sense of duty failed like everything else.\n",
    "\n",
    "This began as a problem at bedtime. At the end of a long day, she would refuse my attempts to get her ready for bed and then actually into it, which makes it sound a lot more playful than it was. Physically, she remained capable, but her spatial awareness had so deserted her that even just sitting down on a dining chair, let alone climbing into bed, was an operation that required careful choreography.\n",
    "\n",
    "Eventually, her instincts, which screamed that the assistance required was a humiliation and my offering it an insult, became a storm she could no longer suppress. I was regularly accused of being a pervert for wanting to undress her. How dare I decide it was bedtime! She didn’t need or want me to go into the bathroom with her.\n",
    "\n",
    "All of which meant none of these simple tasks could take place. It regularly took more than an hour to finesse events from going upstairs to actually settling down to sleep.\n",
    "\n",
    "She remained more or less continent, insofar as she knew when she needed to go. But she needed help performing the necessary manoeuvres. The nurses called it “functionally incontinent”. Occasionally, she would try to take herself to the loo and terrible scenes would ensue – when she managed to sit but forgot to take down her pants, or remembered to take down her pants but forgot to lift the lid, or mistook the bath for the loo and fell into it. Never did my respect for the care profession reach greater heights than when attempting a clean-up while the patient raged, “You did this!” and came at me with soiled hands.\n",
    "\n",
    "Vanessa and Michael in 2023.\n",
    "View image in fullscreen\n",
    "Vanessa and Michael in 2023. Photograph: Courtesy of Michael Aylwin\n",
    "But it was raised hands that proved the turning point. By September 2021, matters had reached a stage where the local authority’s psychiatrist started Vanessa on a course of risperidone, an antipsychotic drug normally used for schizophrenia and bipolar disorder. After I sent an emergency email about her rising levels of violence against me and her visiting carer, but also the first signs of aggression against our children, we were advised by the hospital to double her dose and to switch another of her several meds to something harder.\n",
    "\n",
    "So began her last days in our home, her last days of speech.\n",
    "\n",
    "By then, she had become difficult to understand, but one episode will stay with me. It was the last thing I remember her saying. I was upstairs, when I heard the dread sound of her raised voice, and multiple thuds and bangs.\n",
    "\n",
    "In the kitchen, Vanessa was sitting on the step by the back door. There was cream cheese smeared around the floor, including on her shoe, and a damaged tub on the floor. A table lay upturned by the sofa.\n",
    "\n",
    "Frustration and despair had left her furious, as if she knew she had hit a new low. She was barely intelligible through the faltering and slurs, but when complete phrases did tumble out, they were all the more devastating for that.\n",
    "\n",
    "After thumping the floor with her fists, she slipped into a gentler, sadder mood.\n",
    "\n",
    "“It’s not a life. It’s not a life. I was really vibrant once, going everywhere … ”\n",
    "\n",
    "She stopped to sob gently. “And now I’m not. I don’t know who I am. I’ve got nothing to do.”\n",
    "\n",
    "She mumbled something unintelligible, slumped back against the glass door, until the incoherence parted for one last, soft lament.\n",
    "\n",
    "“It’s all gone away.”\n",
    "\n",
    "I was suddenly incapable of speech myself.\n",
    "\n",
    "It had all gone away.\n",
    "\n",
    "That was the Tuesday. At 5am on the Friday, 17 years and about five hours (I later worked out) after our eyes first met on that dancefloor, she suddenly started gasping for breath. I turned on the light. She was lying on her side, head turned towards me, midway down the bed. Her jaw was locked shut; there was a pool of dribble under her mouth; her eyes were open but not responsive; and she was forcing breath through her system in a horrible, rasping wheeze.\n",
    "\n",
    "We are not sure what precipitated the seizure that took her away from home for good. It might have been the disease doing its thing. It might have been the meds. Our neurologist reckoned it was the meds. It turns out risperidone can be a vicious drug.\n",
    "\n",
    "The paramedics carried her out of our front door. And the search for a nursing home, so far fruitless if not quite frantic, became much more urgent.\n",
    "\n",
    "By then we had been turned away as ineligible by the vast majority we approached. Most of them could not have Vanessa because she was under the age of 65. Of the ones who didn’t mind her age, most could not have her because she was on risperidone, which requires heightened levels of nursing – and of course implies heightened levels of what they euphemistically categorise as “challenging behaviour”.\n",
    "\n",
    "The problem is, nursing homes have a responsibility to their residents, who tend to be frail and vulnerable. An angry 50-year-old strutting around the place is a threat they cannot afford to risk. One home actually suggested we wait to see how Vanessa emerged from her seizure. If she turned out to be incapacitated by it, they could have her.\n",
    "\n",
    "One of our carers was tipped off about a place high up in the North Downs, near Haslemere. I did not drive along its narrow lane with any sense of expectation. This was the eighth home I had visited, after countless phone calls to other institutions and agencies, but it was family-run and independent. And it turned out to be perfect.\n",
    "\n",
    "I drove straight from there to visit Vanessa in hospital for the first time. She had been moved by then from the acute medical unit to the senior ward, which allowed visitors, despite the tail end of Covid. That was the day the penny dropped that she had left our home for the last time. Not only did we have somewhere suitable for her to go, but it was more obvious than ever she would need it.\n",
    "\n",
    "She was pleased to see me when I walked in, which was a relief. I suppose I would have been a welcome sight. If only I’d been there to take her home. She was not able to speak, slurring her words, her tongue sort of stuck against her teeth. She could barely move, certainly not walk. But there she was, in slow motion, smiling, even laughing, soft echoes of her at her best.\n",
    "\n",
    "After an hour or so, I went to leave, and she cried out, as if confronting the realisation that this was it for her. When I drove home, past the primary school our children had only recently left, the road was teeming with the red shirts of children walking home with their parents, just as ours had for so many years with her. That night, when I walked into a pitch-black bedroom, I wondered if I should turn on the light. But it suddenly seemed pointless. She was not coming back.\n",
    "\n",
    "The kids, now both at secondary school, left for the bus stop the next morning, and I closed the door on an empty house. No need to help Vanessa down the stairs, no need to make her cereal, slide the chair in behind her, give her her pills. Later, I walked to the local church to have Covid jab number three (what’s the point? I’m not a carer any more). On the way back, I turned into the gate and looked at the house we had bought together 14 years earlier, in which we had raised our children. I realised she would never walk through its front door again.\n",
    "\n",
    "And so the guilt makes way for grief. There is no way around that either. As with the guilt, you just have to accept it. I do think that one area dementia is kinder on the bereaved is in the way it metes out its grief in instalments. There is never a moment, as there must be with cancer or heart disease, when routine, day-to-day living is suddenly turned on its head by a diagnosis or an event. With dementia, you can usually see it all coming a long way off. Even if a diagnosis is a shock (which it very much was not for us), there will normally be years to come of further life. From there, each stage presents itself with plenty of warning and plenty of time for adjustment.\n",
    "\n",
    "There will be ruptures that trigger grief. Vanessa’s leaving home was a big one for me, but she was still alive, still in this world.\n",
    "\n",
    "From a purely selfish position, the two years after Vanessa moved into the home was a period of release, a return to something like normality, albeit missing the one with whom you created that normality. Once continuing healthcare funding had been awarded, 15 months and three appeals after she had been admitted to the home, it did feel as if almost the last of the burden had been lifted.\n",
    "\n",
    "Almost – because there is someone who does not get to escape. The burden remaining for me was merely to watch Vanessa’s final decline. She was the one who lived it. She had to suffer this ordeal hidden away in a special place, so the rest of us could carry on with living.\n",
    "\n",
    "I don’t believe it is possible to “live well” with the type of dementia Vanessa had to deal with, but that does not mean there is no more joy to be had. And we had it – moments snatched amid the dehumanising cruelty of it all, but real and worth something all the same. Although her speech never returned, she did very suddenly get up from her chair and walk, a few days into her stay at the home, which empowered us to do more together in her first year there. Sunny days on the North Downs, brownies in the cafe, laughter in the pub.\n",
    "\n",
    "Those last two years were a chance for us to rebuild our relationship. I don't know what it says about me that relations with my wife improved so much after she lost the power of speech, but there was a genuine beauty about the way she transcended what had gone before.\n",
    "\n",
    "She had always had a dark side. In good times, there was no one more brilliant and joyous, but she was troubled, too, by the anxious soul she saw as the “real” Vanessa, lurking beneath the charisma. Undoubtedly, her dark side held sway for long periods. Then again, maybe that was the dementia quietly corrupting her circuitry.\n",
    "\n",
    "As you watch Alzheimer’s relentlessly dismantle a person, it does make you wonder where personality ends and condition starts. About whether there is such a boundary at all. We now have names and diagnoses for so many conditions that might previously have passed as personality traits. Vanessa’s was an extreme one, a disease that would kill her in time, but it was absolutely part of who she was. Condition or personality, it is all just chemistry in the brain, and there’s only so much any of us can do about it.\n",
    "\n",
    "There were difficult times. Even if it’s the result of a condition, the collapse of a personality is tough to take on a face-to-face level. Bitterness and dark thoughts on both sides are impossible to avoid. Alzheimer’s drives a couple apart, even as it binds them together, allowing no escape for either.\n",
    "\n",
    "What a blessing, then, those last two years were, when I was the visitor she was pleased to see and the heavy duty care was someone else’s responsibility. I finished them in awe of her. Even I have to concede that I lost the debate about the Alzheimer’s, but I won another we used to have about who the real Vanessa was. She reckoned it was the worrier; I reckoned it was the brilliant one, the one everyone knew and would remember.\n",
    "\n",
    "Sure enough, again and again in her final months, I saw her summon from somewhere an energy and joie de vivre that lit up her care home. When everything else had fallen away – the ability to think straight, the ability to dress herself, feed herself, wash, talk, walk and, eventually, swallow – what remained was the core of her, that smile and that laugh, right up to her last day of consciousness.\n",
    "\n",
    "After an extraordinary display of breathing against all odds, of a heart that kept on beating and could of course, and should of course, have carried on doing so for years more, she finally slipped away at five minutes to midnight on a Friday in September, a full eight days after I was told to get down there quick. And just 24 hours shy of 19 years since we met on that dancefloor.\n",
    "\n",
    "What a dance it has been. Not as I might have expected, but expectations can only ever be thwarted, so I don’t have anything to do with them. I emerge with a touch of survivor’s guilt. To watch closely the deterioration of a mind of such vivacity and colour to its end point, sped up in that untimely fashion, has been difficult, but it has been a sort of privilege, too. For all the anguish she endured in expectation of her fate, I hope Vanessa would have looked back on her life, if she could, with fondness and pride. At 53, she died at least 20 years before her time, but there is much living to be had in 50 – and she had it.\n",
    "\n",
    "There is increasing talk in society about dementia, and rightly so, given the toll it takes on people’s lives and on the economy, the cost to the latter far more than that of cancer and heart disease combined. Funding for research lags way, way behind where it should be. But side by side with heightened awareness comes a slightly unnerving campaign not only of patients sermonising on how to live well with dementia, but of professionals urging folk to get themselves diagnosed.\n",
    "\n",
    "I’m not so sure. Vanessa used to tell me a day did not go by without her worrying about Alzheimer’s. I like to think that is an exaggeration, but if she worried about it at all, and she certainly did, it was too much. What a diagnosis earlier in her journey might have done to her I don’t know. I just wanted her to stop the worrying – about Alzheimer’s and about who she really was. What was the point of any of it?\n",
    "\n",
    "Dom McKenzie The Guardian Journal Locked in Syndrome\n",
    "'Is anybody in there?' Life on the inside as a locked-in patient\n",
    "Read more\n",
    "There are drugs in the offing that will be able to slow the decline of a dementia like Alzheimer’s – and one day no doubt an actual cure – for the sake of which an early diagnosis would be of benefit. But they are not readily available yet. In the meantime, the best defence against the disease’s encroachment is to live – as fully and for as long as possible. Without worrying. But that applies equally to everyone.\n",
    "\n",
    "It is also, at heart, the advice of the “live well with dementia” movement. Dementia does not confer gifts, as some claim. What it might do, in its milder stages, is wake you up to what you should be doing anyway. Dementia’s “gift” is to reinforce a familiar message that resonates with everyone. Make the most of now.\n",
    "\n",
    " Follow the Long Read on X at @gdnlongread, listen to our podcasts here and sign up to the long read weekly email here.\n",
    "\n",
    "This is what we're up against\n",
    "\n",
    "Teams of lawyers from the rich and powerful trying to stop us publishing stories they don’t want you to see. \n",
    "Lobby groups with opaque funding who are determined to undermine facts about the climate emergency and other established science. \n",
    "Authoritarian states with no regard for the freedom of the press.\n",
    "Bad actors spreading disinformation online to undermine democracy. \n",
    "***\n",
    "But we have something powerful on our side. \n",
    "We’ve got you. \n",
    "This is why we're inviting you to access our brilliant, investigative journalism with exclusive digital extras to unlock:\n",
    "- Unlimited articles in our app \n",
    "- Ad-free reading on all your devices.\n",
    "- Exclusive newsletter for supporters, sent every week from the Guardian newsroom\n",
    "- Far fewer asks for support\n",
    "The Guardian is funded by its readers and the only person who decides what we publish is our editor.\"\"\""
   ]
  },
  {
   "cell_type": "code",
   "execution_count": 8,
   "metadata": {},
   "outputs": [
    {
     "name": "stdout",
     "output_type": "stream",
     "text": [
      "\n"
     ]
    }
   ],
   "source": [
    "model = Summarizer()\n",
    "result = model(bodey, min_length=5,max_length,)\n",
    "full = ''.join(result)\n",
    "print(full)"
   ]
  },
  {
   "cell_type": "code",
   "execution_count": 5,
   "metadata": {},
   "outputs": [
    {
     "data": {
      "text/plain": [
       "\"In the end, Vanessa clinched our little argument by dying last September, but we had known her fate since 2019, the year she was diagnosed, at the age of 49. She was dazzling and creative, with a successful career as a marketing executive. How she would have loved to be able to do that only 15 years later. There is a beach cafe overlooking the sea, round the headland from where we were married in 2006. One in 14 of us will develop it if we live beyond 65, one in six if we go beyond 80. Its ultimate genius is the way it comes for the very soul of you. By degrees, dementia disables that faculty, rendering its victim helpless. The work they do raising awareness is valuable, but the insinuation that it should be possible to live well with this condition is disingenuous. The chaos of young family life was losing its power as an explanation for some of her more alarming missteps, but menopause, which came early for her, had since stepped in to explain away instances of memory loss or outbursts of temper. The one time we went to the GP about her concerns was in 2014. I’m not sure what I wanted them to do about it, but I knew this MRI scan would bring together all of Vanessa’s fears. Which was when they told us her brain was as clear as a bell. The next 21 months or so were unnerving, as she started to fall apart in front of our children, then 10 and eight, who should not have had to witness it, let alone suffer the repercussions, all the while being told her brain was fine. Vanessa’s second turn, a week before Christmas 2017, was more spectacular again. As she deteriorated, I bombarded the neurologists with lengthy emails, detailing the latest symptoms. She could not take her medication correctly or understand the pillbox we bought to make it easier. This was relayed in the matter-of-fact manner of the professional, weirdly devastating and reassuring at the same time. On the morning of 13 September 2019, just over a month before her 50th birthday, Vanessa’s neurologist summoned all his powers of straight-talking to tell us, more or less as soon as we sat down, that it was Alzheimer’s. For a Pet scan, they inject some radioactive goo into your system and see which bits light up. We were shown the cold blue regions of Vanessa’s brain that were not working properly, most of them in the middle and rear. Two weeks later, he was able to confirm from the DNA test result that she had what her mother must also have had. We were told she was still in the early stage of the disease. What a diagnosis can do for you is open up resources, although sometimes you have to find out for yourself what they are and where to find them. As much as to be locked down with dementia in the house sounds – and was – difficult, I took comfort from the knowledge no one else was able to go out, either. To have to do everything in the house, including the heavy duty of a spouse’s personal care, and be raged at for your pains. I was regularly accused of being a pervert for wanting to undress her. Never did my respect for the care profession reach greater heights than when attempting a clean-up while the patient raged, “You did this!” By then, she had become difficult to understand, but one episode will stay with me. By then we had been turned away as ineligible by the vast majority we approached. An angry 50-year-old strutting around the place is a threat they cannot afford to risk. I drove straight from there to visit Vanessa in hospital for the first time. That was the day the penny dropped that she had left our home for the last time. She was pleased to see me when I walked in, which was a relief. But there she was, in slow motion, smiling, even laughing, soft echoes of her at her best. I realised she would never walk through its front door again. Almost – because there is someone who does not get to escape. She had to suffer this ordeal hidden away in a special place, so the rest of us could carry on with living. And we had it – moments snatched amid the dehumanising cruelty of it all, but real and worth something all the same. Although her speech never returned, she did very suddenly get up from her chair and walk, a few days into her stay at the home, which empowered us to do more together in her first year there. Sunny days on the North Downs, brownies in the cafe, laughter in the pub. We now have names and diagnoses for so many conditions that might previously have passed as personality traits. Bitterness and dark thoughts on both sides are impossible to avoid. Sure enough, again and again in her final months, I saw her summon from somewhere an energy and joie de vivre that lit up her care home. At 53, she died at least 20 years before her time, but there is much living to be had in 50 – and she had it. But side by side with heightened awareness comes a slightly unnerving campaign not only of patients sermonising on how to live well with dementia, but of professionals urging folk to get themselves diagnosed. Vanessa used to tell me a day did not go by without her worrying about Alzheimer’s. Dom McKenzie The Guardian Journal Locked in Syndrome\\n'Is anybody in there?' Follow the Long Read on X at @gdnlongread, listen to our podcasts here and sign up to the long read weekly email here.\""
      ]
     },
     "execution_count": 5,
     "metadata": {},
     "output_type": "execute_result"
    }
   ],
   "source": [
    "for i in "
   ]
  },
  {
   "cell_type": "code",
   "execution_count": 6,
   "metadata": {},
   "outputs": [
    {
     "data": {
      "text/plain": [
       "\"In the end, Vanessa clinched our little argument by dying last September, but we had known her fate since 2019, the year she was diagnosed, at the age of 49. She was dazzling and creative, with a successful career as a marketing executive. How she would have loved to be able to do that only 15 years later. There is a beach cafe overlooking the sea, round the headland from where we were married in 2006. One in 14 of us will develop it if we live beyond 65, one in six if we go beyond 80. Its ultimate genius is the way it comes for the very soul of you. By degrees, dementia disables that faculty, rendering its victim helpless. The work they do raising awareness is valuable, but the insinuation that it should be possible to live well with this condition is disingenuous. The chaos of young family life was losing its power as an explanation for some of her more alarming missteps, but menopause, which came early for her, had since stepped in to explain away instances of memory loss or outbursts of temper. The one time we went to the GP about her concerns was in 2014. I’m not sure what I wanted them to do about it, but I knew this MRI scan would bring together all of Vanessa’s fears. Which was when they told us her brain was as clear as a bell. The next 21 months or so were unnerving, as she started to fall apart in front of our children, then 10 and eight, who should not have had to witness it, let alone suffer the repercussions, all the while being told her brain was fine. Vanessa’s second turn, a week before Christmas 2017, was more spectacular again. As she deteriorated, I bombarded the neurologists with lengthy emails, detailing the latest symptoms. She could not take her medication correctly or understand the pillbox we bought to make it easier. This was relayed in the matter-of-fact manner of the professional, weirdly devastating and reassuring at the same time. On the morning of 13 September 2019, just over a month before her 50th birthday, Vanessa’s neurologist summoned all his powers of straight-talking to tell us, more or less as soon as we sat down, that it was Alzheimer’s. For a Pet scan, they inject some radioactive goo into your system and see which bits light up. We were shown the cold blue regions of Vanessa’s brain that were not working properly, most of them in the middle and rear. Two weeks later, he was able to confirm from the DNA test result that she had what her mother must also have had. We were told she was still in the early stage of the disease. What a diagnosis can do for you is open up resources, although sometimes you have to find out for yourself what they are and where to find them. As much as to be locked down with dementia in the house sounds – and was – difficult, I took comfort from the knowledge no one else was able to go out, either. To have to do everything in the house, including the heavy duty of a spouse’s personal care, and be raged at for your pains. I was regularly accused of being a pervert for wanting to undress her. Never did my respect for the care profession reach greater heights than when attempting a clean-up while the patient raged, “You did this!” By then, she had become difficult to understand, but one episode will stay with me. By then we had been turned away as ineligible by the vast majority we approached. An angry 50-year-old strutting around the place is a threat they cannot afford to risk. I drove straight from there to visit Vanessa in hospital for the first time. That was the day the penny dropped that she had left our home for the last time. She was pleased to see me when I walked in, which was a relief. But there she was, in slow motion, smiling, even laughing, soft echoes of her at her best. I realised she would never walk through its front door again. Almost – because there is someone who does not get to escape. She had to suffer this ordeal hidden away in a special place, so the rest of us could carry on with living. And we had it – moments snatched amid the dehumanising cruelty of it all, but real and worth something all the same. Although her speech never returned, she did very suddenly get up from her chair and walk, a few days into her stay at the home, which empowered us to do more together in her first year there. Sunny days on the North Downs, brownies in the cafe, laughter in the pub. We now have names and diagnoses for so many conditions that might previously have passed as personality traits. Bitterness and dark thoughts on both sides are impossible to avoid. Sure enough, again and again in her final months, I saw her summon from somewhere an energy and joie de vivre that lit up her care home. At 53, she died at least 20 years before her time, but there is much living to be had in 50 – and she had it. But side by side with heightened awareness comes a slightly unnerving campaign not only of patients sermonising on how to live well with dementia, but of professionals urging folk to get themselves diagnosed. Vanessa used to tell me a day did not go by without her worrying about Alzheimer’s. Dom McKenzie The Guardian Journal Locked in Syndrome\\n'Is anybody in there?' Follow the Long Read on X at @gdnlongread, listen to our podcasts here and sign up to the long read weekly email here.\""
      ]
     },
     "execution_count": 6,
     "metadata": {},
     "output_type": "execute_result"
    }
   ],
   "source": [
    "result"
   ]
  },
  {
   "cell_type": "code",
   "execution_count": 46,
   "metadata": {},
   "outputs": [],
   "source": [
    "# !pip install bert-extractive-summarizer ----> add this in requiremts\n",
    "from summarizer import Summarizer\n",
    "model = Summarizer()\n",
    "from PyPDF2 import PdfReader\n",
    "def get_summary_(pdf_docs,min_len=5,max_len=100,model=model):\n",
    "    text = \"\"\n",
    "    for pdf in pdf_docs:\n",
    "        pdf_reader = PdfReader(pdf)\n",
    "        for page in pdf_reader.pages:\n",
    "            text += page.extract_text()\n",
    "    result = model(body=text, min_length=min_len, max_length=max_len)\n",
    "    full = ''.join(result)\n",
    "    return full"
   ]
  },
  {
   "cell_type": "code",
   "execution_count": 48,
   "metadata": {},
   "outputs": [
    {
     "data": {
      "text/plain": [
       "'The best\\nperforming models also connect the encoder and decoder through an attention\\nmechanism. †Work performed while at Google Brain. right) Multi-Head Attention consists of several\\nattention layers running in parallel. This allows every\\nposition in the decoder to attend over all positions in the input sequence. •The encoder contains self-attention layers. There are many choices of positional encodings,\\nlearned and fixed [9]. The third is the path length between long-range dependencies in the network. As side benefit, self-attention could yield more interpretable models. The big models were trained for 300,000 steps\\n(3.5 days). For the base model, we use a rate of\\nPdrop= 0.1. Label Smoothing During training, we employed label smoothing of value ϵls= 0.1[36]. 8Table 3: Variations on the Transformer architecture. In Table 3 rows (B), we observe that reducing the attention key size dkhurts model quality. 2006) [29] WSJ only, discriminative 90.4\\nZhu et al. ( Layer normalization. Massive exploration of neural\\nmachine translation architectures. [8]Chris Dyer, Adhiguna Kuncoro, Miguel Ballesteros, and Noah A. Smith. [11] Kaiming He, Xiangyu Zhang, Shaoqing Ren, and Jian Sun. [12] Sepp Hochreiter, Yoshua Bengio, Paolo Frasconi, and Jürgen Schmidhuber. Long short-term memory. ACL, August 2009. [16] Łukasz Kaiser and Samy Bengio. Neural GPUs learn algorithms. In International Conference\\non Learning Representations (ICLR) , 2016. A structured self-attentive sentence embedding. Le, Ilya Sutskever, Oriol Vinyals, and Lukasz Kaiser. Effective self-training for parsing. In Empirical Methods in Natural Language Processing , 2016. arXiv\\npreprint arXiv:1608.05859 , 2016. [31] Rico Sennrich, Barry Haddow, and Alexandra Birch. Neural machine translation of rare words\\nwith subword units. Journal of Machine\\nLearning Research , 15(1):1929–1958, 2014. End-to-end memory\\nnetworks. [35] Ilya Sutskever, Oriol Vinyals, and Quoc VV Le. CoRR , abs/1512.00567, 2015. Deep recurrent models with\\nfast-forward connections for neural machine translation. Fast and accurate\\nshift-reduce constituent parsing. Different colors represent different heads. Bottom: Isolated attentions from just the word ‘its’ for attention heads 5\\nand 6.'"
      ]
     },
     "execution_count": 48,
     "metadata": {},
     "output_type": "execute_result"
    }
   ],
   "source": [
    "get_summary_([\"Attention.pdf\"])"
   ]
  },
  {
   "cell_type": "code",
   "execution_count": 16,
   "metadata": {},
   "outputs": [],
   "source": [
    "from PyPDF2 import PdfReader\n",
    "def get_pdf_text(pdf_docs):\n",
    "    text = \"\"\n",
    "    for pdf in pdf_docs:\n",
    "        pdf_reader = PdfReader(pdf)\n",
    "        for page in pdf_reader.pages:\n",
    "            text += page.extract_text()\n",
    "    return text"
   ]
  },
  {
   "cell_type": "code",
   "execution_count": 21,
   "metadata": {},
   "outputs": [],
   "source": [
    "doc = get_pdf_text([\"Attention.pdf\"])\n",
    "p=get_summary(doc=doc,max_len=100)"
   ]
  },
  {
   "cell_type": "code",
   "execution_count": null,
   "metadata": {},
   "outputs": [],
   "source": []
  },
  {
   "cell_type": "code",
   "execution_count": 24,
   "metadata": {},
   "outputs": [
    {
     "data": {
      "text/plain": [
       "'The best\\nperforming models also connect the encoder and decoder through an attention\\nmechanism. †Work performed while at Google Brain. right) Multi-Head Attention consists of several\\nattention layers running in parallel. This allows every\\nposition in the decoder to attend over all positions in the input sequence. •The encoder contains self-attention layers. There are many choices of positional encodings,\\nlearned and fixed [9]. The third is the path length between long-range dependencies in the network. As side benefit, self-attention could yield more interpretable models. The big models were trained for 300,000 steps\\n(3.5 days). For the base model, we use a rate of\\nPdrop= 0.1. Label Smoothing During training, we employed label smoothing of value ϵls= 0.1[36]. 8Table 3: Variations on the Transformer architecture. In Table 3 rows (B), we observe that reducing the attention key size dkhurts model quality. 2006) [29] WSJ only, discriminative 90.4\\nZhu et al. ( Layer normalization. Massive exploration of neural\\nmachine translation architectures. [8]Chris Dyer, Adhiguna Kuncoro, Miguel Ballesteros, and Noah A. Smith. [11] Kaiming He, Xiangyu Zhang, Shaoqing Ren, and Jian Sun. [12] Sepp Hochreiter, Yoshua Bengio, Paolo Frasconi, and Jürgen Schmidhuber. Long short-term memory. ACL, August 2009. [16] Łukasz Kaiser and Samy Bengio. Neural GPUs learn algorithms. In International Conference\\non Learning Representations (ICLR) , 2016. A structured self-attentive sentence embedding. Le, Ilya Sutskever, Oriol Vinyals, and Lukasz Kaiser. Effective self-training for parsing. In Empirical Methods in Natural Language Processing , 2016. arXiv\\npreprint arXiv:1608.05859 , 2016. [31] Rico Sennrich, Barry Haddow, and Alexandra Birch. Neural machine translation of rare words\\nwith subword units. Journal of Machine\\nLearning Research , 15(1):1929–1958, 2014. End-to-end memory\\nnetworks. [35] Ilya Sutskever, Oriol Vinyals, and Quoc VV Le. CoRR , abs/1512.00567, 2015. Deep recurrent models with\\nfast-forward connections for neural machine translation. Fast and accurate\\nshift-reduce constituent parsing. Different colors represent different heads. Bottom: Isolated attentions from just the word ‘its’ for attention heads 5\\nand 6.'"
      ]
     },
     "execution_count": 24,
     "metadata": {},
     "output_type": "execute_result"
    }
   ],
   "source": [
    "p"
   ]
  },
  {
   "cell_type": "code",
   "execution_count": 36,
   "metadata": {},
   "outputs": [],
   "source": [
    "GROQ_API_KEY = \"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\"\n",
    "\n",
    "from langchain_core.prompts import ChatPromptTemplate\n",
    "from langchain_groq import ChatGroq\n",
    "def summ(api_key,txt):\n",
    "    api_key=GROQ_API_KEY\n",
    "    chat = ChatGroq(\n",
    "        temperature=0,\n",
    "        model=\"llama3-70b-8192\",\n",
    "        api_key=api_key\n",
    "    )\n",
    "\n",
    "    system = f\"You are a person recounting the summary.Tell this summary as if you done the project and telling summary.\"\n",
    "    human = \"{text}\"\n",
    "    prompt = ChatPromptTemplate.from_messages([(\"system\", system), (\"human\", human)])\n",
    "\n",
    "    chain = prompt | chat\n",
    "    return(chain.invoke({\"text\": txt}))"
   ]
  },
  {
   "cell_type": "code",
   "execution_count": 30,
   "metadata": {},
   "outputs": [],
   "source": [
    "def get_summary_(doc,api_key):\n",
    "    text=get_pdf_text(doc)\n",
    "    p=get_summary(doc=text,max_len=100)\n",
    "    return summ(api_key=api_key,txt=p)"
   ]
  },
  {
   "cell_type": "code",
   "execution_count": null,
   "metadata": {},
   "outputs": [],
   "source": []
  },
  {
   "cell_type": "code",
   "execution_count": 37,
   "metadata": {},
   "outputs": [],
   "source": [
    "def get_summary(pdf_docs):\n",
    "    text = \"\"\n",
    "    for pdf in pdf_docs:\n",
    "        pdf_reader = PdfReader(pdf)\n",
    "        for page in pdf_reader.pages:\n",
    "            text += page.extract_text()\n",
    "    new=get_summary_(doc=text,max_len=100)\n",
    "    result=summ(api_key=GROQ_API_KEY,txt=new)\n",
    "    return result\n",
    "    \n",
    "    "
   ]
  },
  {
   "cell_type": "code",
   "execution_count": 38,
   "metadata": {},
   "outputs": [
    {
     "data": {
      "text/plain": [
       "AIMessage(content='So, I just finished working on this project with the team at Google Brain, and I\\'m excited to share the summary with you.\\n\\nWe explored various architectures for neural machine translation, and our best-performing models used an attention mechanism to connect the encoder and decoder. This allowed every position in the decoder to attend to all positions in the input sequence.\\n\\nOne of the key components was the Multi-Head Attention mechanism, which consists of several attention layers running in parallel. This enabled the model to capture different aspects of the input sequence simultaneously. We also used self-attention layers in the encoder, which allowed the model to attend to different parts of the input sequence and weigh their importance.\\n\\nWe experimented with different positional encodings, including learned and fixed encodings, and found that they worked well for our model. We also observed that the path length between long-range dependencies in the network was an important factor in the model\\'s performance.\\n\\nOne of the benefits of using self-attention was that it made the model more interpretable. We could visualize the attention weights and see which parts of the input sequence the model was paying attention to.\\n\\nWe trained our big models for 300,000 steps, which took around 3.5 days. We used a dropout rate of 0.1 and employed label smoothing with a value of 0.1 during training.\\n\\nWe also experimented with different variations of the Transformer architecture, and found that reducing the attention key size hurt model quality. We observed this in Table 3, where we compared different variations of the architecture.\\n\\nOverall, our model achieved state-of-the-art results on several machine translation benchmarks, and we\\'re excited about the potential of the Transformer architecture for other natural language processing tasks.\\n\\nOh, and I almost forgot to mention that we also visualized the attention weights for different attention heads, and it was really interesting to see how the model was attending to different parts of the input sequence. We included some examples of this in the paper, including a visualization of the attention weights for the word \"its\" from attention heads 5 and 6.', response_metadata={'token_usage': {'completion_tokens': 419, 'prompt_tokens': 628, 'total_tokens': 1047, 'completion_time': 1.349597289, 'prompt_time': 0.077577449, 'queue_time': None, 'total_time': 1.4271747380000002}, 'model_name': 'llama3-70b-8192', 'system_fingerprint': 'fp_87cbfbbc4d', 'finish_reason': 'stop', 'logprobs': None}, id='run-be326880-c418-42e3-bf6d-25fa9cd24df9-0', usage_metadata={'input_tokens': 628, 'output_tokens': 419, 'total_tokens': 1047})"
      ]
     },
     "execution_count": 38,
     "metadata": {},
     "output_type": "execute_result"
    }
   ],
   "source": [
    "get_summary([\"Attention.pdf\"])"
   ]
  },
  {
   "cell_type": "code",
   "execution_count": 8,
   "metadata": {},
   "outputs": [],
   "source": [
    "from pydub import AudioSegment\n",
    "import noisereduce as nr\n",
    "import numpy as np\n",
    "import io\n",
    "\n",
    "def reduce_noise_in_audio(input_file: str):\n",
    "    \n",
    "    audio = AudioSegment.from_file(input_file)\n",
    "\n",
    "    \n",
    "    samples = np.array(audio.get_array_of_samples())\n",
    "\n",
    "    \n",
    "    reduced_noise = nr.reduce_noise(samples, sr=audio.frame_rate)\n",
    "\n",
    "    \n",
    "    max_amplitude = np.max(np.abs(reduced_noise))\n",
    "    normalized_reduced_noise = (reduced_noise / max_amplitude) * np.iinfo(samples.dtype).max\n",
    "\n",
    "   \n",
    "    reduced_audio = AudioSegment(\n",
    "        normalized_reduced_noise.astype(samples.dtype).tobytes(), \n",
    "        frame_rate=audio.frame_rate, \n",
    "        sample_width=audio.sample_width, \n",
    "        channels=audio.channels\n",
    "    )\n",
    "\n",
    " \n",
    "    target_dBFS = audio.dBFS\n",
    "    change_in_dBFS = target_dBFS - reduced_audio.dBFS\n",
    "    reduced_audio = reduced_audio.apply_gain(change_in_dBFS)\n",
    "\n",
    "  \n",
    "    audio_io = io.BytesIO()\n",
    "    reduced_audio.export(audio_io, format=\"wav\")\n",
    "    audio_io.seek(0)\n",
    "\n",
    "    return audio_io\n",
    "\n",
    "\n"
   ]
  },
  {
   "cell_type": "code",
   "execution_count": 10,
   "metadata": {},
   "outputs": [
    {
     "ename": "KeyboardInterrupt",
     "evalue": "",
     "output_type": "error",
     "traceback": [
      "\u001b[0;31m---------------------------------------------------------------------------\u001b[0m",
      "\u001b[0;31mKeyboardInterrupt\u001b[0m                         Traceback (most recent call last)",
      "Cell \u001b[0;32mIn[10], line 1\u001b[0m\n\u001b[0;32m----> 1\u001b[0m \u001b[43mreduce_noise_in_audio\u001b[49m\u001b[43m(\u001b[49m\u001b[43maudio_data\u001b[49m\u001b[43m)\u001b[49m\n",
      "Cell \u001b[0;32mIn[8], line 8\u001b[0m, in \u001b[0;36mreduce_noise_in_audio\u001b[0;34m(input_file)\u001b[0m\n\u001b[1;32m      6\u001b[0m \u001b[38;5;28;01mdef\u001b[39;00m \u001b[38;5;21mreduce_noise_in_audio\u001b[39m(input_file: \u001b[38;5;28mstr\u001b[39m):\n\u001b[1;32m      7\u001b[0m     \u001b[38;5;66;03m# Load audio file\u001b[39;00m\n\u001b[0;32m----> 8\u001b[0m     audio \u001b[38;5;241m=\u001b[39m \u001b[43mAudioSegment\u001b[49m\u001b[38;5;241;43m.\u001b[39;49m\u001b[43mfrom_file\u001b[49m\u001b[43m(\u001b[49m\u001b[43minput_file\u001b[49m\u001b[43m)\u001b[49m\n\u001b[1;32m     10\u001b[0m     \u001b[38;5;66;03m# Convert audio to numpy array\u001b[39;00m\n\u001b[1;32m     11\u001b[0m     samples \u001b[38;5;241m=\u001b[39m np\u001b[38;5;241m.\u001b[39marray(audio\u001b[38;5;241m.\u001b[39mget_array_of_samples())\n",
      "File \u001b[0;32m~/Documents/client_trainer/kiru/lib/python3.12/site-packages/pydub/audio_segment.py:768\u001b[0m, in \u001b[0;36mAudioSegment.from_file\u001b[0;34m(cls, file, format, codec, parameters, start_second, duration, **kwargs)\u001b[0m\n\u001b[1;32m    764\u001b[0m log_conversion(conversion_command)\n\u001b[1;32m    766\u001b[0m p \u001b[38;5;241m=\u001b[39m subprocess\u001b[38;5;241m.\u001b[39mPopen(conversion_command, stdin\u001b[38;5;241m=\u001b[39mstdin_parameter,\n\u001b[1;32m    767\u001b[0m                      stdout\u001b[38;5;241m=\u001b[39msubprocess\u001b[38;5;241m.\u001b[39mPIPE, stderr\u001b[38;5;241m=\u001b[39msubprocess\u001b[38;5;241m.\u001b[39mPIPE)\n\u001b[0;32m--> 768\u001b[0m p_out, p_err \u001b[38;5;241m=\u001b[39m \u001b[43mp\u001b[49m\u001b[38;5;241;43m.\u001b[39;49m\u001b[43mcommunicate\u001b[49m\u001b[43m(\u001b[49m\u001b[38;5;28;43minput\u001b[39;49m\u001b[38;5;241;43m=\u001b[39;49m\u001b[43mstdin_data\u001b[49m\u001b[43m)\u001b[49m\n\u001b[1;32m    770\u001b[0m \u001b[38;5;28;01mif\u001b[39;00m p\u001b[38;5;241m.\u001b[39mreturncode \u001b[38;5;241m!=\u001b[39m \u001b[38;5;241m0\u001b[39m \u001b[38;5;129;01mor\u001b[39;00m \u001b[38;5;28mlen\u001b[39m(p_out) \u001b[38;5;241m==\u001b[39m \u001b[38;5;241m0\u001b[39m:\n\u001b[1;32m    771\u001b[0m     \u001b[38;5;28;01mif\u001b[39;00m close_file:\n",
      "File \u001b[0;32m/opt/homebrew/Cellar/python@3.12/3.12.4/Frameworks/Python.framework/Versions/3.12/lib/python3.12/subprocess.py:1209\u001b[0m, in \u001b[0;36mPopen.communicate\u001b[0;34m(self, input, timeout)\u001b[0m\n\u001b[1;32m   1206\u001b[0m     endtime \u001b[38;5;241m=\u001b[39m \u001b[38;5;28;01mNone\u001b[39;00m\n\u001b[1;32m   1208\u001b[0m \u001b[38;5;28;01mtry\u001b[39;00m:\n\u001b[0;32m-> 1209\u001b[0m     stdout, stderr \u001b[38;5;241m=\u001b[39m \u001b[38;5;28;43mself\u001b[39;49m\u001b[38;5;241;43m.\u001b[39;49m\u001b[43m_communicate\u001b[49m\u001b[43m(\u001b[49m\u001b[38;5;28;43minput\u001b[39;49m\u001b[43m,\u001b[49m\u001b[43m \u001b[49m\u001b[43mendtime\u001b[49m\u001b[43m,\u001b[49m\u001b[43m \u001b[49m\u001b[43mtimeout\u001b[49m\u001b[43m)\u001b[49m\n\u001b[1;32m   1210\u001b[0m \u001b[38;5;28;01mexcept\u001b[39;00m \u001b[38;5;167;01mKeyboardInterrupt\u001b[39;00m:\n\u001b[1;32m   1211\u001b[0m     \u001b[38;5;66;03m# https://bugs.python.org/issue25942\u001b[39;00m\n\u001b[1;32m   1212\u001b[0m     \u001b[38;5;66;03m# See the detailed comment in .wait().\u001b[39;00m\n\u001b[1;32m   1213\u001b[0m     \u001b[38;5;28;01mif\u001b[39;00m timeout \u001b[38;5;129;01mis\u001b[39;00m \u001b[38;5;129;01mnot\u001b[39;00m \u001b[38;5;28;01mNone\u001b[39;00m:\n",
      "File \u001b[0;32m/opt/homebrew/Cellar/python@3.12/3.12.4/Frameworks/Python.framework/Versions/3.12/lib/python3.12/subprocess.py:2115\u001b[0m, in \u001b[0;36mPopen._communicate\u001b[0;34m(self, input, endtime, orig_timeout)\u001b[0m\n\u001b[1;32m   2108\u001b[0m     \u001b[38;5;28mself\u001b[39m\u001b[38;5;241m.\u001b[39m_check_timeout(endtime, orig_timeout,\n\u001b[1;32m   2109\u001b[0m                         stdout, stderr,\n\u001b[1;32m   2110\u001b[0m                         skip_check_and_raise\u001b[38;5;241m=\u001b[39m\u001b[38;5;28;01mTrue\u001b[39;00m)\n\u001b[1;32m   2111\u001b[0m     \u001b[38;5;28;01mraise\u001b[39;00m \u001b[38;5;167;01mRuntimeError\u001b[39;00m(  \u001b[38;5;66;03m# Impossible :)\u001b[39;00m\n\u001b[1;32m   2112\u001b[0m         \u001b[38;5;124m'\u001b[39m\u001b[38;5;124m_check_timeout(..., skip_check_and_raise=True) \u001b[39m\u001b[38;5;124m'\u001b[39m\n\u001b[1;32m   2113\u001b[0m         \u001b[38;5;124m'\u001b[39m\u001b[38;5;124mfailed to raise TimeoutExpired.\u001b[39m\u001b[38;5;124m'\u001b[39m)\n\u001b[0;32m-> 2115\u001b[0m ready \u001b[38;5;241m=\u001b[39m \u001b[43mselector\u001b[49m\u001b[38;5;241;43m.\u001b[39;49m\u001b[43mselect\u001b[49m\u001b[43m(\u001b[49m\u001b[43mtimeout\u001b[49m\u001b[43m)\u001b[49m\n\u001b[1;32m   2116\u001b[0m \u001b[38;5;28mself\u001b[39m\u001b[38;5;241m.\u001b[39m_check_timeout(endtime, orig_timeout, stdout, stderr)\n\u001b[1;32m   2118\u001b[0m \u001b[38;5;66;03m# XXX Rewrite these to use non-blocking I/O on the file\u001b[39;00m\n\u001b[1;32m   2119\u001b[0m \u001b[38;5;66;03m# objects; they are no longer using C stdio!\u001b[39;00m\n",
      "File \u001b[0;32m/opt/homebrew/Cellar/python@3.12/3.12.4/Frameworks/Python.framework/Versions/3.12/lib/python3.12/selectors.py:415\u001b[0m, in \u001b[0;36m_PollLikeSelector.select\u001b[0;34m(self, timeout)\u001b[0m\n\u001b[1;32m    413\u001b[0m ready \u001b[38;5;241m=\u001b[39m []\n\u001b[1;32m    414\u001b[0m \u001b[38;5;28;01mtry\u001b[39;00m:\n\u001b[0;32m--> 415\u001b[0m     fd_event_list \u001b[38;5;241m=\u001b[39m \u001b[38;5;28;43mself\u001b[39;49m\u001b[38;5;241;43m.\u001b[39;49m\u001b[43m_selector\u001b[49m\u001b[38;5;241;43m.\u001b[39;49m\u001b[43mpoll\u001b[49m\u001b[43m(\u001b[49m\u001b[43mtimeout\u001b[49m\u001b[43m)\u001b[49m\n\u001b[1;32m    416\u001b[0m \u001b[38;5;28;01mexcept\u001b[39;00m \u001b[38;5;167;01mInterruptedError\u001b[39;00m:\n\u001b[1;32m    417\u001b[0m     \u001b[38;5;28;01mreturn\u001b[39;00m ready\n",
      "\u001b[0;31mKeyboardInterrupt\u001b[0m: "
     ]
    }
   ],
   "source": [
    "reduce_noise_in_audio(audio_data)"
   ]
  },
  {
   "cell_type": "code",
   "execution_count": 11,
   "metadata": {},
   "outputs": [
    {
     "data": {
      "text/plain": [
       "_io.BytesIO"
      ]
     },
     "execution_count": 11,
     "metadata": {},
     "output_type": "execute_result"
    }
   ],
   "source": [
    "type(audio_data)"
   ]
  },
  {
   "cell_type": "code",
   "execution_count": null,
   "metadata": {},
   "outputs": [],
   "source": []
  }
 ],
 "metadata": {
  "kernelspec": {
   "display_name": "kiru",
   "language": "python",
   "name": "python3"
  },
  "language_info": {
   "codemirror_mode": {
    "name": "ipython",
    "version": 3
   },
   "file_extension": ".py",
   "mimetype": "text/x-python",
   "name": "python",
   "nbconvert_exporter": "python",
   "pygments_lexer": "ipython3",
   "version": "3.12.3"
  }
 },
 "nbformat": 4,
 "nbformat_minor": 2
}
